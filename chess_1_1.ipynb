{
  "nbformat": 4,
  "nbformat_minor": 0,
  "metadata": {
    "colab": {
      "provenance": [],
      "authorship_tag": "ABX9TyPTPLXHfO6wn/ud4cqF0nO7",
      "include_colab_link": true
    },
    "kernelspec": {
      "name": "python3",
      "display_name": "Python 3"
    },
    "language_info": {
      "name": "python"
    }
  },
  "cells": [
    {
      "cell_type": "markdown",
      "metadata": {
        "id": "view-in-github",
        "colab_type": "text"
      },
      "source": [
        "<a href=\"https://colab.research.google.com/github/esheshka/chess/blob/main/chess_1_1.ipynb\" target=\"_parent\"><img src=\"https://colab.research.google.com/assets/colab-badge.svg\" alt=\"Open In Colab\"/></a>"
      ]
    },
    {
      "cell_type": "code",
      "execution_count": 1,
      "metadata": {
        "id": "4GIYh4Ys72ed",
        "cellView": "form"
      },
      "outputs": [],
      "source": [
        "#@title **Imports**\n",
        "\n",
        "# import numpy as np"
      ]
    },
    {
      "cell_type": "code",
      "source": [
        "#@title **Globals**\n",
        "\n",
        "table = [['.' for i in range(8)] for i in range(8)]\n",
        "white_figures = ['P', 'R', 'N', 'B', 'Q', 'K']\n",
        "black_figures = ['p', 'r', 'n', 'b', 'q', 'k']\n",
        "figures = [*white_figures, *black_figures]\n",
        "white_move = True\n",
        "move_count = 1"
      ],
      "metadata": {
        "cellView": "form",
        "id": "Wfy0fa2aIlAk"
      },
      "execution_count": 260,
      "outputs": []
    },
    {
      "cell_type": "code",
      "source": [
        "def create_table():\n",
        "    global table\n",
        "    global white_move\n",
        "    global move_count\n",
        "\n",
        "    table = [['.' for i in range(8)] for i in range(8)]\n",
        "\n",
        "    table[0] = ['r', 'n', 'b', 'q', 'k', 'b', 'n', 'r']\n",
        "    table[7] = ['R', 'N', 'B', 'Q', 'K', 'B', 'N', 'R']\n",
        "    for x in range(8):\n",
        "        table[1][x] = 'p'\n",
        "        table[6][x] = 'P'\n",
        "\n",
        "    table = flip(transpose(table))\n",
        "\n",
        "    white_move = True\n",
        "    move_count = 1"
      ],
      "metadata": {
        "id": "ayy3gxL0ITls"
      },
      "execution_count": 261,
      "outputs": []
    },
    {
      "cell_type": "code",
      "source": [
        "def transpose(matr):\n",
        "    res = []\n",
        "    for j in range(8):\n",
        "        tmp = []\n",
        "        for i in range(8):\n",
        "            tmp = tmp + [matr[i][j]]\n",
        "        res = res + [tmp]\n",
        "\n",
        "    return res"
      ],
      "metadata": {
        "id": "cQBAkVQtkc0j"
      },
      "execution_count": 262,
      "outputs": []
    },
    {
      "cell_type": "code",
      "source": [
        "def flip(matr):\n",
        "    res = []\n",
        "    for j in range(8):\n",
        "        tmp = []\n",
        "        for i in range(8):\n",
        "            tmp = tmp + [matr[j][7 - i]]\n",
        "        res = res + [tmp]\n",
        "\n",
        "    return res"
      ],
      "metadata": {
        "id": "BLx1bEpGmnyI"
      },
      "execution_count": 263,
      "outputs": []
    },
    {
      "cell_type": "code",
      "source": [
        "def draw():\n",
        "    # for i in range(8):\n",
        "    #     print(i, \"-\", *table[i])\n",
        "\n",
        "    print(f\"\\n   A B C D E F G H\\n\")\n",
        "    for x in range(8):\n",
        "        print(8 - x, end='  ')\n",
        "\n",
        "        for y in range(8):\n",
        "            print(table[y][7 - x], end=' ')\n",
        "\n",
        "        print('', 8 - x)\n",
        "\n",
        "    print(f\"\\n   A B C D E F G H\\n\")"
      ],
      "metadata": {
        "id": "hyu3gM-YJRXg"
      },
      "execution_count": 264,
      "outputs": []
    },
    {
      "cell_type": "code",
      "source": [
        "def coordinates(text):\n",
        "    result = [ord(text[0]) - ord('a'), int(text[1]) - 1]\n",
        "\n",
        "    return result"
      ],
      "metadata": {
        "id": "c3-VmwsuRcY1"
      },
      "execution_count": 265,
      "outputs": []
    },
    {
      "cell_type": "code",
      "source": [
        "def move(command):\n",
        "    if len(command) != 5 or command[0] not in \"abcdefghABSDEFGH\" or command[1] not in \"12345678\" or command[2] != \"-\" or command[3] not in \"abcdefghABSDEFGH\" or command[4] not in \"12345678\":\n",
        "        return \"Wrong input format.\"\n",
        "\n",
        "    move_from, move_to = map(coordinates, command.split(\"-\"))\n",
        "\n",
        "    if table[move_from[0]][move_from[1]] == \".\":\n",
        "        return \"The piece cannot make the specified move.\"\n",
        "    elif white_move and table[move_from[0]][move_from[1]] in black_figures:\n",
        "        return \"The piece cannot make the specified move.\"\n",
        "    elif (not white_move) and table[move_from[0]][move_from[1]] in white_figures:\n",
        "        return \"The piece cannot make the specified move.\"\n",
        "\n",
        "    possible = possible_moves(move_from[0], move_from[1])\n",
        "    if move_to not in possible:\n",
        "        return \"The piece cannot make the specified move.\"\n",
        "    else:\n",
        "        table[move_to[0]][move_to[1]] = table[move_from[0]][move_from[1]]\n",
        "        table[move_from[0]][move_from[1]] = '.'"
      ],
      "metadata": {
        "id": "ZvKbRZobPMpz"
      },
      "execution_count": 280,
      "outputs": []
    },
    {
      "cell_type": "code",
      "source": [
        "def possible_moves(x, y):\n",
        "    pos = []\n",
        "    if table[x][y] in 'pP':\n",
        "        pos = [*pos, *possible_moves_pawn(x, y)]\n",
        "    if table[x][y] in 'rRqQ':\n",
        "        pos = [*pos, *possible_moves_rook(x, y)]\n",
        "    if table[x][y] in 'bBqQ':\n",
        "        pos = [*pos, *possible_moves_bishop(x, y)]\n",
        "    if table[x][y] in 'nN':\n",
        "        pos = [*pos, *possible_moves_knight(x, y)]\n",
        "\n",
        "\n",
        "    return pos"
      ],
      "metadata": {
        "id": "sE6OWf9UefrJ"
      },
      "execution_count": 278,
      "outputs": []
    },
    {
      "cell_type": "code",
      "source": [
        "#@title **Возможные ходы коня**\n",
        "\n",
        "def possible_moves_knight(x, y):\n",
        "    pos = []\n",
        "    for x1 in [-2, -1, 1, 2]:\n",
        "        for y1 in [-2, -1, 1, 2]:\n",
        "            if (x1*x1 + y1*y1 != 5) or (x + x1 not in range(8)) or (y + y1 not in range(8)):\n",
        "                continue\n",
        "\n",
        "            if table[x+x1][y+y1] == '.':\n",
        "                pos.append([x+x1, y+y1])\n",
        "            elif (table[x+x1][y+y1] in white_figures) == white_move:\n",
        "                continue\n",
        "            else:\n",
        "                pos.append([x+x1, y+y1])\n",
        "\n",
        "    return pos"
      ],
      "metadata": {
        "cellView": "form",
        "id": "VBAqOyHd5vyB"
      },
      "execution_count": 276,
      "outputs": []
    },
    {
      "cell_type": "code",
      "source": [
        "#@title **Возможные ходы слона**\n",
        "\n",
        "def possible_moves_bishop(x, y):\n",
        "    pos = []\n",
        "    for a in range(1, 8):\n",
        "        if x + a not in range(8) or y + a not in range(8):\n",
        "            break\n",
        "        elif table[x+a][y+a] == '.':\n",
        "            pos.append([x+a, y+a])\n",
        "        elif (table[x+a][y+a] in white_figures) == white_move:\n",
        "            break\n",
        "        else:\n",
        "            pos.append([x+a, y+a])\n",
        "            break\n",
        "\n",
        "    for a in range(1, 8):\n",
        "        if x + a not in range(8) or y - a not in range(8):\n",
        "            break\n",
        "        elif table[x+a][y-a] == '.':\n",
        "            pos.append([x+a, y-a])\n",
        "        elif (table[x+a][y-a] in white_figures) == white_move:\n",
        "            break\n",
        "        else:\n",
        "            pos.append([x+a, y-a])\n",
        "            break\n",
        "\n",
        "    for a in range(1, 8):\n",
        "        if x - a not in range(8) or y + a not in range(8):\n",
        "            break\n",
        "        elif table[x-a][y+a] == '.':\n",
        "            pos.append([x-a, y+a])\n",
        "        elif (table[x-a][y+a] in white_figures) == white_move:\n",
        "            break\n",
        "        else:\n",
        "            pos.append([x-a, y+a])\n",
        "            break\n",
        "\n",
        "    for a in range(1, 8):\n",
        "        if x - a not in range(8) or y - a not in range(8):\n",
        "            break\n",
        "        elif table[x-a][y-a] == '.':\n",
        "            pos.append([x-a, y-a])\n",
        "        elif (table[x-a][y-a] in white_figures) == white_move:\n",
        "            break\n",
        "        else:\n",
        "            pos.append([x-a, y-a])\n",
        "            break\n",
        "\n",
        "    return pos"
      ],
      "metadata": {
        "cellView": "form",
        "id": "Y4O8dfDw3sdu"
      },
      "execution_count": 269,
      "outputs": []
    },
    {
      "cell_type": "code",
      "source": [
        "#@title **Возможные ходы ладьи**\n",
        "\n",
        "def possible_moves_rook(x, y):\n",
        "    pos = []\n",
        "    for x1 in range(1, 8):\n",
        "        if x + x1 not in range(8):\n",
        "            break\n",
        "        elif table[x+x1][y] == '.':\n",
        "            pos.append([x+x1, y])\n",
        "        elif (table[x+x1][y] in white_figures) == white_move:\n",
        "            break\n",
        "        else:\n",
        "            pos.append([x+x1, y])\n",
        "            break\n",
        "\n",
        "    for x1 in range(1, 8):\n",
        "        if x - x1 not in range(8):\n",
        "            break\n",
        "        elif table[x-x1][y] == '.':\n",
        "            pos.append([x-x1, y])\n",
        "        elif (table[x-x1][y] in white_figures) == white_move:\n",
        "            break\n",
        "        else:\n",
        "            pos.append([x-x1, y])\n",
        "            break\n",
        "\n",
        "    for y1 in range(1, 8):\n",
        "        if y + y1 not in range(8):\n",
        "            break\n",
        "        elif table[x][y+y1] == '.':\n",
        "            pos.append([x, y+y1])\n",
        "        elif (table[x][y+y1] in white_figures) == white_move:\n",
        "            break\n",
        "        else:\n",
        "            pos.append([x, y+y1])\n",
        "            break\n",
        "\n",
        "    for y1 in range(1, 8):\n",
        "        if y - y1 not in range(8):\n",
        "            break\n",
        "        elif table[x][y-y1] == '.':\n",
        "            pos.append([x, y-y1])\n",
        "        elif (table[x][y-y1] in white_figures) == white_move:\n",
        "            break\n",
        "        else:\n",
        "            pos.append([x, y-y1])\n",
        "            break\n",
        "\n",
        "    return pos"
      ],
      "metadata": {
        "cellView": "form",
        "id": "iK7FSWhKwrdf"
      },
      "execution_count": 270,
      "outputs": []
    },
    {
      "cell_type": "code",
      "source": [
        "#@title **Возможные ходы пешки**\n",
        "\n",
        "def possible_moves_pawn(x, y):\n",
        "    pos = []\n",
        "    if white_move:\n",
        "        if y+1 in range(8):\n",
        "            if x+1 in range(8) and table[x+1][y+1] in black_figures:\n",
        "                pos.append([x+1, y+1])\n",
        "            if x-1 in range(8) and table[x-1][y+1] in black_figures:\n",
        "                pos.append([x-1, y+1])\n",
        "\n",
        "            if table[x][y+1] not in figures:\n",
        "                pos.append([x, y+1])\n",
        "                if y == 1 and table[x][y+2] not in figures:\n",
        "                    pos.append([x, y+2])\n",
        "    else:\n",
        "        if y-1 in range(8):\n",
        "            if x+1 in range(8) and table[x+1][y-1] in white_figures:\n",
        "                pos.append([x+1, y-1])\n",
        "            if x-1 in range(8) and table[x-1][y-1] in white_figures:\n",
        "                pos.append([x-1, y-1])\n",
        "\n",
        "            if table[x][y-1] not in figures:\n",
        "                pos.append([x, y-1])\n",
        "                if y == 6 and table[x][y-2] not in figures:\n",
        "                    pos.append([x, y-2])\n",
        "\n",
        "    return pos"
      ],
      "metadata": {
        "cellView": "form",
        "id": "odI_E_OHfSkv"
      },
      "execution_count": 271,
      "outputs": []
    },
    {
      "cell_type": "code",
      "source": [
        "create_table()\n",
        "\n",
        "while True:\n",
        "    print('white'*white_move + 'black'*(not white_move), str(move_count) + ':')\n",
        "    command = input()\n",
        "    if command == 'exit':\n",
        "        break\n",
        "    elif command == 'draw':\n",
        "        draw()\n",
        "    else:\n",
        "        error = move(command)\n",
        "        if not error:\n",
        "            white_move = not white_move\n",
        "            if white_move:\n",
        "                move_count += 1\n",
        "        else:\n",
        "            print('Error. Type:', error)"
      ],
      "metadata": {
        "colab": {
          "base_uri": "https://localhost:8080/"
        },
        "id": "e_k53tL5Ih2Z",
        "outputId": "770ca72c-d7cd-4b59-833c-4deed1eaee34"
      },
      "execution_count": 285,
      "outputs": [
        {
          "name": "stdout",
          "output_type": "stream",
          "text": [
            "white 1:\n",
            "e2-e4\n",
            "black 1:\n",
            "exit\n"
          ]
        }
      ]
    },
    {
      "cell_type": "code",
      "source": [],
      "metadata": {
        "id": "YAXFoDm8T8zB"
      },
      "execution_count": null,
      "outputs": []
    }
  ]
}