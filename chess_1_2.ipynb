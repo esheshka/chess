{
  "nbformat": 4,
  "nbformat_minor": 0,
  "metadata": {
    "colab": {
      "provenance": [],
      "authorship_tag": "ABX9TyM+b4igzLYloIu8YQ6bMgsZ",
      "include_colab_link": true
    },
    "kernelspec": {
      "name": "python3",
      "display_name": "Python 3"
    },
    "language_info": {
      "name": "python"
    }
  },
  "cells": [
    {
      "cell_type": "markdown",
      "metadata": {
        "id": "view-in-github",
        "colab_type": "text"
      },
      "source": [
        "<a href=\"https://colab.research.google.com/github/esheshka/chess/blob/main/chess_1_2.ipynb\" target=\"_parent\"><img src=\"https://colab.research.google.com/assets/colab-badge.svg\" alt=\"Open In Colab\"/></a>"
      ]
    },
    {
      "cell_type": "code",
      "source": [
        "#@title **Globals**\n",
        "\n",
        "table = [['.' for i in range(8)] for i in range(8)]\n",
        "white_figures = ['P', 'R', 'N', 'B', 'Q', 'K']\n",
        "black_figures = ['p', 'r', 'n', 'b', 'q', 'k']\n",
        "figures = [*white_figures, *black_figures]\n",
        "white_move = True\n",
        "move_count = 1\n",
        "\n",
        "castling_white = [True, True]\n",
        "castling_black = [True, True]"
      ],
      "metadata": {
        "id": "Wfy0fa2aIlAk"
      },
      "execution_count": null,
      "outputs": []
    },
    {
      "cell_type": "code",
      "source": [
        "def create_table():\n",
        "    global table\n",
        "    global white_move\n",
        "    global move_count\n",
        "    global castling_white\n",
        "    global castling_black\n",
        "\n",
        "    table = [['.' for i in range(8)] for i in range(8)]\n",
        "\n",
        "    table[0] = ['r', 'n', 'b', 'q', 'k', 'b', 'n', 'r']\n",
        "    table[7] = ['R', 'N', 'B', 'Q', 'K', 'B', 'N', 'R']\n",
        "    for x in range(8):\n",
        "        table[1][x] = 'p'\n",
        "        table[6][x] = 'P'\n",
        "\n",
        "    table = flip(transpose(table))\n",
        "\n",
        "    castling_white = [True, True]\n",
        "    castling_black = [True, True]\n",
        "    white_move = True\n",
        "    move_count = 1"
      ],
      "metadata": {
        "id": "ayy3gxL0ITls"
      },
      "execution_count": null,
      "outputs": []
    },
    {
      "cell_type": "code",
      "source": [
        "def transpose(matr):\n",
        "    res = []\n",
        "    for j in range(8):\n",
        "        tmp = []\n",
        "        for i in range(8):\n",
        "            tmp = tmp + [matr[i][j]]\n",
        "        res = res + [tmp]\n",
        "\n",
        "    return res"
      ],
      "metadata": {
        "id": "cQBAkVQtkc0j"
      },
      "execution_count": null,
      "outputs": []
    },
    {
      "cell_type": "code",
      "source": [
        "def flip(matr):\n",
        "    res = []\n",
        "    for j in range(8):\n",
        "        tmp = []\n",
        "        for i in range(8):\n",
        "            tmp = tmp + [matr[j][7 - i]]\n",
        "        res = res + [tmp]\n",
        "\n",
        "    return res"
      ],
      "metadata": {
        "id": "BLx1bEpGmnyI"
      },
      "execution_count": null,
      "outputs": []
    },
    {
      "cell_type": "code",
      "source": [
        "def draw():\n",
        "    print(f\"\\n   A B C D E F G H\\n\")\n",
        "    for x in range(8):\n",
        "        print(8 - x, end='  ')\n",
        "\n",
        "        for y in range(8):\n",
        "            print(table[y][7 - x], end=' ')\n",
        "\n",
        "        print('', 8 - x)\n",
        "\n",
        "    print(f\"\\n   A B C D E F G H\\n\")"
      ],
      "metadata": {
        "id": "hyu3gM-YJRXg"
      },
      "execution_count": null,
      "outputs": []
    },
    {
      "cell_type": "code",
      "source": [
        "def coordinates(text):\n",
        "    result = [ord(text[0]) - ord('a'), int(text[1]) - 1]\n",
        "\n",
        "    return result"
      ],
      "metadata": {
        "id": "c3-VmwsuRcY1"
      },
      "execution_count": null,
      "outputs": []
    },
    {
      "cell_type": "code",
      "source": [
        "def move(command):\n",
        "    global castling_white\n",
        "    global castling_black\n",
        "    global white_move\n",
        "    global table\n",
        "\n",
        "    if command == \"0-0\":\n",
        "        if castling(True):\n",
        "            return \"The piece cannot make the specified move.\"\n",
        "        else:\n",
        "            return ''\n",
        "    elif command == \"0-0-0\":\n",
        "        if castling(False):\n",
        "            return \"The piece cannot make the specified move.\"\n",
        "        else:\n",
        "            return ''\n",
        "\n",
        "    if len(command) != 5 or command[0] not in \"abcdefghABSDEFGH\" or command[1] not in \"12345678\" or command[2] != \"-\" or command[3] not in \"abcdefghABSDEFGH\" or command[4] not in \"12345678\":\n",
        "        return \"Wrong input format.\"\n",
        "\n",
        "    move_from, move_to = map(coordinates, command.split(\"-\"))\n",
        "\n",
        "    if table[move_from[0]][move_from[1]] == \".\":\n",
        "        return \"The piece cannot make the specified move.\"\n",
        "    elif white_move and table[move_from[0]][move_from[1]] in black_figures:\n",
        "        return \"The piece cannot make the specified move.\"\n",
        "    elif (not white_move) and table[move_from[0]][move_from[1]] in white_figures:\n",
        "        return \"The piece cannot make the specified move.\"\n",
        "\n",
        "    possible = possible_moves(move_from[0], move_from[1])\n",
        "    # print(possible)\n",
        "    if move_to not in possible:\n",
        "        return \"The piece cannot make the specified move.\"\n",
        "    else:\n",
        "        if move_from == [4, 0] or move_to == [4, 0]:\n",
        "            castling_white = [False, False]\n",
        "        elif move_from == [0, 0] or move_to == [0, 0]:\n",
        "            castling_white[1] = False\n",
        "        elif move_from == [7, 0] or move_to == [7, 0]:\n",
        "            castling_white[0] = False\n",
        "\n",
        "        if move_from == [4, 7] or move_to == [4, 7]:\n",
        "            castling_black = [False, False]\n",
        "        elif move_from == [0, 7] or move_to == [0, 7]:\n",
        "            castling_black[1] = False\n",
        "        elif move_from == [7, 7] or move_to == [7, 7]:\n",
        "            castling_black[0] = False\n",
        "\n",
        "        table[move_to[0]][move_to[1]] = table[move_from[0]][move_from[1]]\n",
        "        table[move_from[0]][move_from[1]] = '.'"
      ],
      "metadata": {
        "id": "ZvKbRZobPMpz"
      },
      "execution_count": null,
      "outputs": []
    },
    {
      "cell_type": "code",
      "source": [
        "def castling(short):\n",
        "    global castling_white\n",
        "    global castling_black\n",
        "    global white_move\n",
        "    global table\n",
        "\n",
        "    if short:\n",
        "        if white_move and castling_white[0] and table[5][0] == '.' and table[6][0] == '.':\n",
        "            table[5][0], table[6][0] = table[7][0], table[4][0]\n",
        "            table[4][0], table[7][0] = '.', '.'\n",
        "            castling_white = [False, False]\n",
        "        elif (not white_move) and castling_black[0] and table[5][7] == '.' and table[6][7] == '.':\n",
        "            table[5][7], table[6][7] = table[7][7], table[4][7]\n",
        "            table[4][7], table[7][7] = '.', '.'\n",
        "            castling_black = [False, False]\n",
        "        else:\n",
        "            return True\n",
        "    else:\n",
        "        if white_move and castling_white[1] and table[1][0] == '.' and table[2][0] == '.' and table[3][0] == '.':\n",
        "            table[3][0], table[2][0] = table[0][0], table[4][0]\n",
        "            table[4][0], table[0][0] = '.', '.'\n",
        "            castling_white = [False, False]\n",
        "        elif (not white_move) and castling_black[1] and table[1][7] == '.' and table[2][7] == '.' and table[3][7] == '.':\n",
        "            table[3][7], table[2][7] = table[0][7], table[4][7]\n",
        "            table[4][7], table[0][7] = '.', '.'\n",
        "            castling_black = [False, False]\n",
        "        else:\n",
        "            return True"
      ],
      "metadata": {
        "id": "X1WpXz-X43lw"
      },
      "execution_count": null,
      "outputs": []
    },
    {
      "cell_type": "code",
      "source": [
        "def possible_moves(x, y):\n",
        "    pos = []\n",
        "    if table[x][y] in 'pP':\n",
        "        pos = [*pos, *possible_moves_pawn(x, y)]\n",
        "    if table[x][y] in 'rRqQ':\n",
        "        pos = [*pos, *possible_moves_rook(x, y)]\n",
        "    if table[x][y] in 'bBqQ':\n",
        "        pos = [*pos, *possible_moves_bishop(x, y)]\n",
        "    if table[x][y] in 'nN':\n",
        "        pos = [*pos, *possible_moves_knight(x, y)]\n",
        "    if table[x][y] in 'kK':\n",
        "        pos = [*pos, *possible_moves_king(x, y)]\n",
        "\n",
        "\n",
        "    return pos"
      ],
      "metadata": {
        "id": "sE6OWf9UefrJ"
      },
      "execution_count": null,
      "outputs": []
    },
    {
      "cell_type": "code",
      "source": [
        "#@title **Возможные ходы короля**\n",
        "\n",
        "def possible_moves_king(x, y):\n",
        "    pos = []\n",
        "    for x1 in [-1, 0, 1]:\n",
        "        for y1 in [-1, 0, 1]:\n",
        "            if (x1 == 0 and y1 == 0) or (x + x1 not in range(8)) or (y + y1 not in range(8)):\n",
        "                continue\n",
        "\n",
        "            if table[x+x1][y+y1] == '.':\n",
        "                pos.append([x+x1, y+y1])\n",
        "            elif (table[x+x1][y+y1] in white_figures) == white_move:\n",
        "                continue\n",
        "            else:\n",
        "                pos.append([x+x1, y+y1])\n",
        "\n",
        "    return pos"
      ],
      "metadata": {
        "cellView": "form",
        "id": "yNvAxTSOpdqG"
      },
      "execution_count": null,
      "outputs": []
    },
    {
      "cell_type": "code",
      "source": [
        "#@title **Возможные ходы коня**\n",
        "\n",
        "def possible_moves_knight(x, y):\n",
        "    pos = []\n",
        "    for x1 in [-2, -1, 1, 2]:\n",
        "        for y1 in [-2, -1, 1, 2]:\n",
        "            if (x1*x1 + y1*y1 != 5) or (x + x1 not in range(8)) or (y + y1 not in range(8)):\n",
        "                continue\n",
        "\n",
        "            if table[x+x1][y+y1] == '.':\n",
        "                pos.append([x+x1, y+y1])\n",
        "            elif (table[x+x1][y+y1] in white_figures) == white_move:\n",
        "                continue\n",
        "            else:\n",
        "                pos.append([x+x1, y+y1])\n",
        "\n",
        "    return pos"
      ],
      "metadata": {
        "cellView": "form",
        "id": "VBAqOyHd5vyB"
      },
      "execution_count": null,
      "outputs": []
    },
    {
      "cell_type": "code",
      "source": [
        "#@title **Возможные ходы слона**\n",
        "\n",
        "def bishop_vectors(x, y, kx, ky):\n",
        "    pos = []\n",
        "\n",
        "    for a in range(1, 8):\n",
        "        if y + ky*a not in range(8) or x + kx*a not in range(8):\n",
        "            break\n",
        "        elif table[x+kx*a][y+ky*a] == '.':\n",
        "            pos.append([x+kx*a, y+ky*a])\n",
        "        elif (table[x+kx*a][y+ky*a] in white_figures) == white_move:\n",
        "            break\n",
        "        else:\n",
        "            pos.append([x+kx*a, y+ky*a])\n",
        "            break\n",
        "\n",
        "    return pos\n",
        "\n",
        "\n",
        "def possible_moves_bishop(x, y):\n",
        "\n",
        "    pos = []\n",
        "\n",
        "    for x1 in [-1, 1]:\n",
        "        for y1 in [-1, 1]:\n",
        "            pos = [*pos, *rook_vectors(x, y, x1, y1)]\n",
        "\n",
        "    return pos"
      ],
      "metadata": {
        "id": "Y4O8dfDw3sdu",
        "cellView": "form"
      },
      "execution_count": null,
      "outputs": []
    },
    {
      "cell_type": "code",
      "source": [
        "#@title **Возможные ходы ладьи**\n",
        "\n",
        "def rook_vectors(x, y, kx, ky):\n",
        "    pos = []\n",
        "\n",
        "    for a in range(1, 8):\n",
        "        if y + ky*a not in range(8) or x + kx*a not in range(8):\n",
        "            break\n",
        "        elif table[x+kx*a][y+ky*a] == '.':\n",
        "            pos.append([x+kx*a, y+ky*a])\n",
        "        elif (table[x+kx*a][y+ky*a] in white_figures) == white_move:\n",
        "            break\n",
        "        else:\n",
        "            pos.append([x+kx*a, y+ky*a])\n",
        "            break\n",
        "\n",
        "    return pos\n",
        "\n",
        "\n",
        "def possible_moves_rook(x, y):\n",
        "    pos = []\n",
        "\n",
        "    for x1 in [-1, 1]:\n",
        "        pos = [*pos, *rook_vectors(x, y, x1, 0)]\n",
        "    for y1 in [-1, 1]:\n",
        "        pos = [*pos, *rook_vectors(x, y, 0, y1)]\n",
        "\n",
        "    return pos"
      ],
      "metadata": {
        "id": "iK7FSWhKwrdf",
        "cellView": "form"
      },
      "execution_count": null,
      "outputs": []
    },
    {
      "cell_type": "code",
      "source": [
        "#@title **Возможные ходы пешки**\n",
        "\n",
        "def possible_moves_pawn(x, y):\n",
        "    pos = []\n",
        "    if white_move:\n",
        "        if y+1 in range(8):\n",
        "            if x+1 in range(8) and table[x+1][y+1] in black_figures:\n",
        "                pos.append([x+1, y+1])\n",
        "            if x-1 in range(8) and table[x-1][y+1] in black_figures:\n",
        "                pos.append([x-1, y+1])\n",
        "\n",
        "            if table[x][y+1] not in figures:\n",
        "                pos.append([x, y+1])\n",
        "                if y == 1 and table[x][y+2] not in figures:\n",
        "                    pos.append([x, y+2])\n",
        "    else:\n",
        "        if y-1 in range(8):\n",
        "            if x+1 in range(8) and table[x+1][y-1] in white_figures:\n",
        "                pos.append([x+1, y-1])\n",
        "            if x-1 in range(8) and table[x-1][y-1] in white_figures:\n",
        "                pos.append([x-1, y-1])\n",
        "\n",
        "            if table[x][y-1] not in figures:\n",
        "                pos.append([x, y-1])\n",
        "                if y == 6 and table[x][y-2] not in figures:\n",
        "                    pos.append([x, y-2])\n",
        "\n",
        "    return pos"
      ],
      "metadata": {
        "id": "odI_E_OHfSkv",
        "cellView": "form"
      },
      "execution_count": null,
      "outputs": []
    },
    {
      "cell_type": "code",
      "source": [
        "create_table()\n",
        "\n",
        "while True:\n",
        "    print('white'*white_move + 'black'*(not white_move), str(move_count) + ':')\n",
        "    command = input()\n",
        "    if command == 'exit':\n",
        "        break\n",
        "    elif command == 'draw':\n",
        "        draw()\n",
        "    else:\n",
        "        error = move(command)\n",
        "        if not error:\n",
        "            white_move = not white_move\n",
        "            if white_move:\n",
        "                move_count += 1\n",
        "        else:\n",
        "            print('Error. Type:', error)"
      ],
      "metadata": {
        "colab": {
          "base_uri": "https://localhost:8080/"
        },
        "id": "e_k53tL5Ih2Z",
        "outputId": "24c62ba7-5dcc-42de-e31a-bf10b2e60a11"
      },
      "execution_count": null,
      "outputs": [
        {
          "name": "stdout",
          "output_type": "stream",
          "text": [
            "white 1:\n",
            "exit\n"
          ]
        }
      ]
    },
    {
      "cell_type": "code",
      "source": [
        "# g2-g4\n",
        "# g7-g5\n",
        "# g1-f3\n",
        "# g8-f6\n",
        "# f1-g2\n",
        "# f8-g7"
      ],
      "metadata": {
        "id": "YAXFoDm8T8zB",
        "colab": {
          "base_uri": "https://localhost:8080/"
        },
        "outputId": "28fabf83-fc43-4046-96db-03d3b0e9428e"
      },
      "execution_count": null,
      "outputs": [
        {
          "output_type": "execute_result",
          "data": {
            "text/plain": [
              "False"
            ]
          },
          "metadata": {},
          "execution_count": 69
        }
      ]
    },
    {
      "cell_type": "code",
      "source": [],
      "metadata": {
        "id": "18pwc53ESi1r"
      },
      "execution_count": null,
      "outputs": []
    }
  ]
}