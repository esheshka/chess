{
  "nbformat": 4,
  "nbformat_minor": 0,
  "metadata": {
    "colab": {
      "provenance": [],
      "authorship_tag": "ABX9TyN4eNQnAHK4r/dAxpe/rAVl",
      "include_colab_link": true
    },
    "kernelspec": {
      "name": "python3",
      "display_name": "Python 3"
    },
    "language_info": {
      "name": "python"
    }
  },
  "cells": [
    {
      "cell_type": "markdown",
      "metadata": {
        "id": "view-in-github",
        "colab_type": "text"
      },
      "source": [
        "<a href=\"https://colab.research.google.com/github/esheshka/chess/blob/main/chess_1_3.ipynb\" target=\"_parent\"><img src=\"https://colab.research.google.com/assets/colab-badge.svg\" alt=\"Open In Colab\"/></a>"
      ]
    },
    {
      "cell_type": "code",
      "source": [
        "import copy"
      ],
      "metadata": {
        "id": "7eY8Sv2OKNVy"
      },
      "execution_count": 84,
      "outputs": []
    },
    {
      "cell_type": "code",
      "source": [
        "#@title **Globals**\n",
        "\n",
        "table = [['.' for i in range(8)] for i in range(8)]\n",
        "white_figures = ['P', 'R', 'N', 'B', 'Q', 'K']\n",
        "black_figures = ['p', 'r', 'n', 'b', 'q', 'k']\n",
        "figures = [*white_figures, *black_figures]\n",
        "white_move = True\n",
        "move_count = 1\n",
        "\n",
        "memory = []\n",
        "now = 0"
      ],
      "metadata": {
        "id": "Wfy0fa2aIlAk"
      },
      "execution_count": 85,
      "outputs": []
    },
    {
      "cell_type": "code",
      "source": [
        "def create_table():\n",
        "    global table\n",
        "    global white_move\n",
        "    global move_count\n",
        "    global memory\n",
        "    global now\n",
        "\n",
        "    table = [['.' for i in range(8)] for i in range(8)]\n",
        "\n",
        "    table[0] = ['r', 'n', 'b', 'q', 'k', 'b', 'n', 'r']\n",
        "    table[7] = ['R', 'N', 'B', 'Q', 'K', 'B', 'N', 'R']\n",
        "    for x in range(8):\n",
        "        table[1][x] = 'p'\n",
        "        table[6][x] = 'P'\n",
        "\n",
        "    table = flip(transpose(table))\n",
        "\n",
        "    white_move = True\n",
        "    move_count = 1\n",
        "    memory = []\n",
        "    memory.append(copy.deepcopy((table)))\n",
        "    now = 0"
      ],
      "metadata": {
        "id": "ayy3gxL0ITls"
      },
      "execution_count": 86,
      "outputs": []
    },
    {
      "cell_type": "code",
      "source": [
        "def transpose(matr):\n",
        "    res = []\n",
        "    for j in range(8):\n",
        "        tmp = []\n",
        "        for i in range(8):\n",
        "            tmp = tmp + [matr[i][j]]\n",
        "        res = res + [tmp]\n",
        "\n",
        "    return res"
      ],
      "metadata": {
        "id": "cQBAkVQtkc0j"
      },
      "execution_count": 87,
      "outputs": []
    },
    {
      "cell_type": "code",
      "source": [
        "def flip(matr):\n",
        "    res = []\n",
        "    for j in range(8):\n",
        "        tmp = []\n",
        "        for i in range(8):\n",
        "            tmp = tmp + [matr[j][7 - i]]\n",
        "        res = res + [tmp]\n",
        "\n",
        "    return res"
      ],
      "metadata": {
        "id": "BLx1bEpGmnyI"
      },
      "execution_count": 88,
      "outputs": []
    },
    {
      "cell_type": "code",
      "source": [
        "def draw():\n",
        "    print(f\"\\n   A B C D E F G H\\n\")\n",
        "    for x in range(8):\n",
        "        print(8 - x, end='  ')\n",
        "\n",
        "        for y in range(8):\n",
        "            print(table[y][7 - x], end=' ')\n",
        "\n",
        "        print('', 8 - x)\n",
        "\n",
        "    print(f\"\\n   A B C D E F G H\\n\")"
      ],
      "metadata": {
        "id": "hyu3gM-YJRXg"
      },
      "execution_count": 89,
      "outputs": []
    },
    {
      "cell_type": "code",
      "source": [
        "def coordinates(text):\n",
        "    result = [ord(text[0]) - ord('a'), int(text[1]) - 1]\n",
        "\n",
        "    return result"
      ],
      "metadata": {
        "id": "c3-VmwsuRcY1"
      },
      "execution_count": 90,
      "outputs": []
    },
    {
      "cell_type": "code",
      "source": [
        "def move(command):\n",
        "    if len(command) != 5 or command[0] not in \"abcdefghABSDEFGH\" or command[1] not in \"12345678\" or command[2] != \"-\" or command[3] not in \"abcdefghABSDEFGH\" or command[4] not in \"12345678\":\n",
        "        return \"Wrong input format.\"\n",
        "\n",
        "    move_from, move_to = map(coordinates, command.split(\"-\"))\n",
        "\n",
        "    if table[move_from[0]][move_from[1]] == \".\":\n",
        "        return \"The piece cannot make the specified move.\"\n",
        "    elif white_move and table[move_from[0]][move_from[1]] in black_figures:\n",
        "        return \"The piece cannot make the specified move.\"\n",
        "    elif (not white_move) and table[move_from[0]][move_from[1]] in white_figures:\n",
        "        return \"The piece cannot make the specified move.\"\n",
        "\n",
        "    possible = possible_moves(move_from[0], move_from[1])\n",
        "    # print(possible)\n",
        "    if move_to not in possible:\n",
        "        return \"The piece cannot make the specified move.\"\n",
        "    else:\n",
        "        table[move_to[0]][move_to[1]] = table[move_from[0]][move_from[1]]\n",
        "        table[move_from[0]][move_from[1]] = '.'"
      ],
      "metadata": {
        "id": "ZvKbRZobPMpz"
      },
      "execution_count": 91,
      "outputs": []
    },
    {
      "cell_type": "code",
      "source": [
        "def possible_moves(x, y):\n",
        "    pos = []\n",
        "    if table[x][y] in 'pP':\n",
        "        pos = [*pos, *possible_moves_pawn(x, y)]\n",
        "    if table[x][y] in 'rRqQ':\n",
        "        pos = [*pos, *possible_moves_rook(x, y)]\n",
        "    if table[x][y] in 'bBqQ':\n",
        "        pos = [*pos, *possible_moves_bishop(x, y)]\n",
        "    if table[x][y] in 'nN':\n",
        "        pos = [*pos, *possible_moves_knight(x, y)]\n",
        "    if table[x][y] in 'kK':\n",
        "        pos = [*pos, *possible_moves_king(x, y)]\n",
        "\n",
        "\n",
        "    return pos"
      ],
      "metadata": {
        "id": "sE6OWf9UefrJ"
      },
      "execution_count": 92,
      "outputs": []
    },
    {
      "cell_type": "code",
      "source": [
        "#@title **Возможные ходы короля**\n",
        "\n",
        "def possible_moves_king(x, y):\n",
        "    pos = []\n",
        "    for x1 in [-1, 0, 1]:\n",
        "        for y1 in [-1, 0, 1]:\n",
        "            if (x1 == 0 and y1 == 0) or (x + x1 not in range(8)) or (y + y1 not in range(8)):\n",
        "                continue\n",
        "\n",
        "            if table[x+x1][y+y1] == '.':\n",
        "                pos.append([x+x1, y+y1])\n",
        "            elif (table[x+x1][y+y1] in white_figures) == white_move:\n",
        "                continue\n",
        "            else:\n",
        "                pos.append([x+x1, y+y1])\n",
        "\n",
        "    return pos"
      ],
      "metadata": {
        "cellView": "form",
        "id": "yNvAxTSOpdqG"
      },
      "execution_count": 93,
      "outputs": []
    },
    {
      "cell_type": "code",
      "source": [
        "#@title **Возможные ходы коня**\n",
        "\n",
        "def possible_moves_knight(x, y):\n",
        "    pos = []\n",
        "    for x1 in [-2, -1, 1, 2]:\n",
        "        for y1 in [-2, -1, 1, 2]:\n",
        "            if (x1*x1 + y1*y1 != 5) or (x + x1 not in range(8)) or (y + y1 not in range(8)):\n",
        "                continue\n",
        "\n",
        "            if table[x+x1][y+y1] == '.':\n",
        "                pos.append([x+x1, y+y1])\n",
        "            elif (table[x+x1][y+y1] in white_figures) == white_move:\n",
        "                continue\n",
        "            else:\n",
        "                pos.append([x+x1, y+y1])\n",
        "\n",
        "    return pos"
      ],
      "metadata": {
        "cellView": "form",
        "id": "VBAqOyHd5vyB"
      },
      "execution_count": 94,
      "outputs": []
    },
    {
      "cell_type": "code",
      "source": [
        "#@title **Возможные ходы слона**\n",
        "\n",
        "def bishop_vectors(x, y, kx, ky):\n",
        "    pos = []\n",
        "\n",
        "    for a in range(1, 8):\n",
        "        if y + ky*a not in range(8) or x + kx*a not in range(8):\n",
        "            break\n",
        "        elif table[x+kx*a][y+ky*a] == '.':\n",
        "            pos.append([x+kx*a, y+ky*a])\n",
        "        elif (table[x+kx*a][y+ky*a] in white_figures) == white_move:\n",
        "            break\n",
        "        else:\n",
        "            pos.append([x+kx*a, y+ky*a])\n",
        "            break\n",
        "\n",
        "    return pos\n",
        "\n",
        "\n",
        "def possible_moves_bishop(x, y):\n",
        "\n",
        "    pos = []\n",
        "\n",
        "    for x1 in [-1, 1]:\n",
        "        for y1 in [-1, 1]:\n",
        "            pos = [*pos, *rook_vectors(x, y, x1, y1)]\n",
        "\n",
        "    return pos"
      ],
      "metadata": {
        "id": "Y4O8dfDw3sdu",
        "cellView": "form"
      },
      "execution_count": 95,
      "outputs": []
    },
    {
      "cell_type": "code",
      "source": [
        "#@title **Возможные ходы ладьи**\n",
        "\n",
        "def rook_vectors(x, y, kx, ky):\n",
        "    pos = []\n",
        "\n",
        "    for a in range(1, 8):\n",
        "        if y + ky*a not in range(8) or x + kx*a not in range(8):\n",
        "            break\n",
        "        elif table[x+kx*a][y+ky*a] == '.':\n",
        "            pos.append([x+kx*a, y+ky*a])\n",
        "        elif (table[x+kx*a][y+ky*a] in white_figures) == white_move:\n",
        "            break\n",
        "        else:\n",
        "            pos.append([x+kx*a, y+ky*a])\n",
        "            break\n",
        "\n",
        "    return pos\n",
        "\n",
        "\n",
        "def possible_moves_rook(x, y):\n",
        "    pos = []\n",
        "\n",
        "    for x1 in [-1, 1]:\n",
        "        pos = [*pos, *rook_vectors(x, y, x1, 0)]\n",
        "    for y1 in [-1, 1]:\n",
        "        pos = [*pos, *rook_vectors(x, y, 0, y1)]\n",
        "\n",
        "    return pos"
      ],
      "metadata": {
        "id": "iK7FSWhKwrdf",
        "cellView": "form"
      },
      "execution_count": 96,
      "outputs": []
    },
    {
      "cell_type": "code",
      "source": [
        "#@title **Возможные ходы пешки**\n",
        "\n",
        "def possible_moves_pawn(x, y):\n",
        "    pos = []\n",
        "    if white_move:\n",
        "        if y+1 in range(8):\n",
        "            if x+1 in range(8) and table[x+1][y+1] in black_figures:\n",
        "                pos.append([x+1, y+1])\n",
        "            if x-1 in range(8) and table[x-1][y+1] in black_figures:\n",
        "                pos.append([x-1, y+1])\n",
        "\n",
        "            if table[x][y+1] not in figures:\n",
        "                pos.append([x, y+1])\n",
        "                if y == 1 and table[x][y+2] not in figures:\n",
        "                    pos.append([x, y+2])\n",
        "    else:\n",
        "        if y-1 in range(8):\n",
        "            if x+1 in range(8) and table[x+1][y-1] in white_figures:\n",
        "                pos.append([x+1, y-1])\n",
        "            if x-1 in range(8) and table[x-1][y-1] in white_figures:\n",
        "                pos.append([x-1, y-1])\n",
        "\n",
        "            if table[x][y-1] not in figures:\n",
        "                pos.append([x, y-1])\n",
        "                if y == 6 and table[x][y-2] not in figures:\n",
        "                    pos.append([x, y-2])\n",
        "\n",
        "    return pos"
      ],
      "metadata": {
        "id": "odI_E_OHfSkv",
        "cellView": "form"
      },
      "execution_count": 97,
      "outputs": []
    },
    {
      "cell_type": "code",
      "source": [
        "isinstance('next_move 1'.split('next_move ')[1], int)"
      ],
      "metadata": {
        "colab": {
          "base_uri": "https://localhost:8080/"
        },
        "id": "zJdvrMa5MjJ2",
        "outputId": "6a7bc0d1-dc6c-474d-8125-5fdc95c7cae6"
      },
      "execution_count": 105,
      "outputs": [
        {
          "output_type": "execute_result",
          "data": {
            "text/plain": [
              "False"
            ]
          },
          "metadata": {},
          "execution_count": 105
        }
      ]
    },
    {
      "cell_type": "code",
      "source": [
        "def my_main(command):\n",
        "    global table\n",
        "    global white_move\n",
        "    global move_count\n",
        "    global memory\n",
        "    global now\n",
        "\n",
        "    if command == 'exit':\n",
        "        return True\n",
        "    elif command == 'draw':\n",
        "        draw()\n",
        "    # elif command == 'next_move':\n",
        "    #     if now + 1 < len(memory):\n",
        "    #         now += 1\n",
        "    #         table = copy.deepcopy(memory[now])\n",
        "    #         white_move = not white_move\n",
        "    #         move_count = (now // 2) + 1\n",
        "    #     else:\n",
        "    #         print('Error. Type: History out of bounds')\n",
        "    elif command.split('next_move')[0] == '' and (command.split('next_move')[1] == '' or command.split('next_move ')[1].isdigit()):\n",
        "        step = 1\n",
        "        if command.split('next_move')[1] != '':\n",
        "            step = int(command.split('next_move ')[1])\n",
        "\n",
        "        if now + step < len(memory):\n",
        "            now += step\n",
        "            table = copy.deepcopy(memory[now])\n",
        "            if step % 2 == 1:\n",
        "                white_move = not white_move\n",
        "            move_count = (now // 2) + 1\n",
        "        else:\n",
        "            print('Error. Type: History out of bounds.')\n",
        "    # elif command == 'previous_move':\n",
        "    #     if now - 1 >= 0:\n",
        "    #         now -= 1\n",
        "    #         table = copy.deepcopy(memory[now])\n",
        "    #         white_move = not white_move\n",
        "    #         move_count = (now // 2) + 1\n",
        "    #     else:\n",
        "    #         print('Error. Type: History out of bounds')\n",
        "    elif command.split('previous_move')[0] == '' and (command.split('previous_move')[1] == '' or command.split('previous_move ')[1].isdigit()):\n",
        "        step = 1\n",
        "        if command.split('previous_move')[1] != '':\n",
        "            step = int(command.split('previous_move ')[1])\n",
        "\n",
        "        if now - step >= 0:\n",
        "            now -= step\n",
        "            table = copy.deepcopy(memory[now])\n",
        "            if step % 2 == 1:\n",
        "                white_move = not white_move\n",
        "            move_count = (now // 2) + 1\n",
        "        else:\n",
        "            print('Error. Type: History out of bounds.')\n",
        "    else:\n",
        "        error = move(command)\n",
        "        if not error:\n",
        "            if now + 1 < len(memory):\n",
        "                memory = memory[:now+1]\n",
        "            memory.append(copy.deepcopy(table))\n",
        "            now += 1\n",
        "            white_move = not white_move\n",
        "            if white_move:\n",
        "                move_count += 1\n",
        "        elif error != \"ok\":\n",
        "            print('Error. Type:', error)"
      ],
      "metadata": {
        "id": "gJ6SUzV8CIcr"
      },
      "execution_count": 108,
      "outputs": []
    },
    {
      "cell_type": "code",
      "source": [
        "create_table()\n",
        "\n",
        "while True:\n",
        "    print('white'*white_move + 'black'*(not white_move), str(move_count) + ':')\n",
        "    if my_main(input()):\n",
        "        break"
      ],
      "metadata": {
        "colab": {
          "base_uri": "https://localhost:8080/",
          "height": 799
        },
        "id": "CXxPMqX8CMOj",
        "outputId": "5d3e6c50-7344-4038-ad50-a4a977b579e1"
      },
      "execution_count": 110,
      "outputs": [
        {
          "output_type": "stream",
          "name": "stdout",
          "text": [
            "white 1:\n",
            "e2-e4\n",
            "black 1:\n",
            "e7-e5\n",
            "white 2:\n",
            "previous_move 3\n",
            "Error. Type: History out of bounds\n",
            "white 2:\n",
            "draw\n",
            "\n",
            "   A B C D E F G H\n",
            "\n",
            "8  r n b q k b n r  8\n",
            "7  p p p p . p p p  7\n",
            "6  . . . . . . . .  6\n",
            "5  . . . . p . . .  5\n",
            "4  . . . . P . . .  4\n",
            "3  . . . . . . . .  3\n",
            "2  P P P P . P P P  2\n",
            "1  R N B Q K B N R  1\n",
            "\n",
            "   A B C D E F G H\n",
            "\n",
            "white 2:\n"
          ]
        },
        {
          "output_type": "error",
          "ename": "KeyboardInterrupt",
          "evalue": "Interrupted by user",
          "traceback": [
            "\u001b[0;31m---------------------------------------------------------------------------\u001b[0m",
            "\u001b[0;31mKeyboardInterrupt\u001b[0m                         Traceback (most recent call last)",
            "\u001b[0;32m<ipython-input-110-c8ab9fcb4a06>\u001b[0m in \u001b[0;36m<cell line: 3>\u001b[0;34m()\u001b[0m\n\u001b[1;32m      3\u001b[0m \u001b[0;32mwhile\u001b[0m \u001b[0;32mTrue\u001b[0m\u001b[0;34m:\u001b[0m\u001b[0;34m\u001b[0m\u001b[0;34m\u001b[0m\u001b[0m\n\u001b[1;32m      4\u001b[0m     \u001b[0mprint\u001b[0m\u001b[0;34m(\u001b[0m\u001b[0;34m'white'\u001b[0m\u001b[0;34m*\u001b[0m\u001b[0mwhite_move\u001b[0m \u001b[0;34m+\u001b[0m \u001b[0;34m'black'\u001b[0m\u001b[0;34m*\u001b[0m\u001b[0;34m(\u001b[0m\u001b[0;32mnot\u001b[0m \u001b[0mwhite_move\u001b[0m\u001b[0;34m)\u001b[0m\u001b[0;34m,\u001b[0m \u001b[0mstr\u001b[0m\u001b[0;34m(\u001b[0m\u001b[0mmove_count\u001b[0m\u001b[0;34m)\u001b[0m \u001b[0;34m+\u001b[0m \u001b[0;34m':'\u001b[0m\u001b[0;34m)\u001b[0m\u001b[0;34m\u001b[0m\u001b[0;34m\u001b[0m\u001b[0m\n\u001b[0;32m----> 5\u001b[0;31m     \u001b[0;32mif\u001b[0m \u001b[0mmy_main\u001b[0m\u001b[0;34m(\u001b[0m\u001b[0minput\u001b[0m\u001b[0;34m(\u001b[0m\u001b[0;34m)\u001b[0m\u001b[0;34m)\u001b[0m\u001b[0;34m:\u001b[0m\u001b[0;34m\u001b[0m\u001b[0;34m\u001b[0m\u001b[0m\n\u001b[0m\u001b[1;32m      6\u001b[0m         \u001b[0;32mbreak\u001b[0m\u001b[0;34m\u001b[0m\u001b[0;34m\u001b[0m\u001b[0m\n",
            "\u001b[0;32m/usr/local/lib/python3.10/dist-packages/ipykernel/kernelbase.py\u001b[0m in \u001b[0;36mraw_input\u001b[0;34m(self, prompt)\u001b[0m\n\u001b[1;32m    849\u001b[0m                 \u001b[0;34m\"raw_input was called, but this frontend does not support input requests.\"\u001b[0m\u001b[0;34m\u001b[0m\u001b[0;34m\u001b[0m\u001b[0m\n\u001b[1;32m    850\u001b[0m             )\n\u001b[0;32m--> 851\u001b[0;31m         return self._input_request(str(prompt),\n\u001b[0m\u001b[1;32m    852\u001b[0m             \u001b[0mself\u001b[0m\u001b[0;34m.\u001b[0m\u001b[0m_parent_ident\u001b[0m\u001b[0;34m,\u001b[0m\u001b[0;34m\u001b[0m\u001b[0;34m\u001b[0m\u001b[0m\n\u001b[1;32m    853\u001b[0m             \u001b[0mself\u001b[0m\u001b[0;34m.\u001b[0m\u001b[0m_parent_header\u001b[0m\u001b[0;34m,\u001b[0m\u001b[0;34m\u001b[0m\u001b[0;34m\u001b[0m\u001b[0m\n",
            "\u001b[0;32m/usr/local/lib/python3.10/dist-packages/ipykernel/kernelbase.py\u001b[0m in \u001b[0;36m_input_request\u001b[0;34m(self, prompt, ident, parent, password)\u001b[0m\n\u001b[1;32m    893\u001b[0m             \u001b[0;32mexcept\u001b[0m \u001b[0mKeyboardInterrupt\u001b[0m\u001b[0;34m:\u001b[0m\u001b[0;34m\u001b[0m\u001b[0;34m\u001b[0m\u001b[0m\n\u001b[1;32m    894\u001b[0m                 \u001b[0;31m# re-raise KeyboardInterrupt, to truncate traceback\u001b[0m\u001b[0;34m\u001b[0m\u001b[0;34m\u001b[0m\u001b[0m\n\u001b[0;32m--> 895\u001b[0;31m                 \u001b[0;32mraise\u001b[0m \u001b[0mKeyboardInterrupt\u001b[0m\u001b[0;34m(\u001b[0m\u001b[0;34m\"Interrupted by user\"\u001b[0m\u001b[0;34m)\u001b[0m \u001b[0;32mfrom\u001b[0m \u001b[0;32mNone\u001b[0m\u001b[0;34m\u001b[0m\u001b[0;34m\u001b[0m\u001b[0m\n\u001b[0m\u001b[1;32m    896\u001b[0m             \u001b[0;32mexcept\u001b[0m \u001b[0mException\u001b[0m \u001b[0;32mas\u001b[0m \u001b[0me\u001b[0m\u001b[0;34m:\u001b[0m\u001b[0;34m\u001b[0m\u001b[0;34m\u001b[0m\u001b[0m\n\u001b[1;32m    897\u001b[0m                 \u001b[0mself\u001b[0m\u001b[0;34m.\u001b[0m\u001b[0mlog\u001b[0m\u001b[0;34m.\u001b[0m\u001b[0mwarning\u001b[0m\u001b[0;34m(\u001b[0m\u001b[0;34m\"Invalid Message:\"\u001b[0m\u001b[0;34m,\u001b[0m \u001b[0mexc_info\u001b[0m\u001b[0;34m=\u001b[0m\u001b[0;32mTrue\u001b[0m\u001b[0;34m)\u001b[0m\u001b[0;34m\u001b[0m\u001b[0;34m\u001b[0m\u001b[0m\n",
            "\u001b[0;31mKeyboardInterrupt\u001b[0m: Interrupted by user"
          ]
        }
      ]
    },
    {
      "cell_type": "code",
      "source": [],
      "metadata": {
        "id": "YAXFoDm8T8zB"
      },
      "execution_count": null,
      "outputs": []
    }
  ]
}